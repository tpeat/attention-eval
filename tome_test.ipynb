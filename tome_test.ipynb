{
 "cells": [
  {
   "cell_type": "markdown",
   "metadata": {},
   "source": [
    "## Problem statement:\n",
    "\n",
    "ToMe expects a single tensor to be passed to calls to `.attn`\n",
    "\n",
    "Then inside the attn block, q,k,v are created\n",
    "\n",
    "Therefore it can merge tokens before entering the attn block and unmerge them coming out and (input, output) will have the same shape.\n",
    "\n",
    "My problem is that I  am passing in q,k,v to the transformer block, because they tracking some history of q,k,v states\n",
    "\n",
    "How can I:\n",
    "- merge(q), merge(k), merge(v)\n",
    "- out = attn(q, k, v)\n",
    "- unmerge out without loss of information\n",
    "??\n",
    "\n",
    "\n",
    "\n"
   ]
  },
  {
   "cell_type": "markdown",
   "metadata": {},
   "source": []
  },
  {
   "cell_type": "code",
   "execution_count": 128,
   "metadata": {},
   "outputs": [],
   "source": [
    "import torch\n",
    "import torch.nn.functional as F\n",
    "\n",
    "from tome import bipartite_soft_matching, apply_merge\n",
    "\n",
    "%load_ext autoreload\n",
    "%autoreload 2"
   ]
  },
  {
   "cell_type": "code",
   "execution_count": 131,
   "metadata": {},
   "outputs": [],
   "source": [
    "# number of tokens to merge\n",
    "r = 1\n",
    "# set dty;e\n",
    "dtype = torch.float32"
   ]
  },
  {
   "cell_type": "code",
   "execution_count": 132,
   "metadata": {},
   "outputs": [
    {
     "data": {
      "text/plain": [
       "(tensor([[[0.4963, 0.7682, 0.0885, 0.1320, 0.3074],\n",
       "          [0.6341, 0.4901, 0.8964, 0.4556, 0.6323],\n",
       "          [0.3489, 0.4017, 0.0223, 0.1689, 0.2939],\n",
       "          [0.5185, 0.6977, 0.8000, 0.1610, 0.2823]]]),\n",
       " tensor([[[0.7576, 0.2793, 0.4031, 0.7347, 0.0293],\n",
       "          [0.7999, 0.3971, 0.7544, 0.5695, 0.4388],\n",
       "          [0.6387, 0.5247, 0.6826, 0.3051, 0.4635],\n",
       "          [0.4550, 0.5725, 0.4980, 0.9371, 0.6556]]]))"
      ]
     },
     "execution_count": 132,
     "metadata": {},
     "output_type": "execute_result"
    }
   ],
   "source": [
    "# manually seeded values all have same value\n",
    "torch.manual_seed(0)\n",
    "q = torch.rand(1, 4, 5).to(dtype)\n",
    "k = q\n",
    "# change seed for k to get some different value\n",
    "torch.manual_seed(1)\n",
    "v = torch.rand(1, 4, 5).to(dtype)\n",
    "q, v"
   ]
  },
  {
   "cell_type": "markdown",
   "metadata": {},
   "source": [
    "## Combining q,k,v first"
   ]
  },
  {
   "cell_type": "code",
   "execution_count": 55,
   "metadata": {},
   "outputs": [
    {
     "data": {
      "text/plain": [
       "tensor([[[1.4888, 2.3047, 0.2654, 0.3961, 0.9223],\n",
       "         [1.9022, 1.4703, 2.6893, 1.3669, 1.8969],\n",
       "         [1.0467, 1.2052, 0.0670, 0.5066, 0.8817],\n",
       "         [1.5556, 2.0930, 2.4000, 0.4831, 0.8468]]])"
      ]
     },
     "execution_count": 55,
     "metadata": {},
     "output_type": "execute_result"
    }
   ],
   "source": [
    "qkv = q + k + v\n",
    "qkv"
   ]
  },
  {
   "cell_type": "code",
   "execution_count": 45,
   "metadata": {},
   "outputs": [],
   "source": [
    "mqkv, uqkv = bipartite_soft_matching(qkv, r)"
   ]
  },
  {
   "cell_type": "code",
   "execution_count": 63,
   "metadata": {},
   "outputs": [
    {
     "data": {
      "text/plain": [
       "tensor([[[1.0467, 1.2052, 0.0670, 0.5066, 0.8817],\n",
       "         [1.9022, 1.4703, 2.6893, 1.3669, 1.8969],\n",
       "         [1.5222, 2.1988, 1.3327, 0.4396, 0.8845]]])"
      ]
     },
     "execution_count": 63,
     "metadata": {},
     "output_type": "execute_result"
    }
   ],
   "source": [
    "merged_qkv = apply_merge(qkv, mqkv)\n",
    "merged_qkv"
   ]
  },
  {
   "cell_type": "code",
   "execution_count": 67,
   "metadata": {},
   "outputs": [
    {
     "data": {
      "text/plain": [
       "tensor([[[1.0467, 1.2052, 0.0670, 0.5066, 0.8817]]])"
      ]
     },
     "execution_count": 67,
     "metadata": {},
     "output_type": "execute_result"
    }
   ],
   "source": [
    "# chunk back into q, k, v\n",
    "chunk_q, chunk_k, chunk_v = torch.chunk(merged_qkv, 3, dim=1)\n",
    "chunk_q"
   ]
  },
  {
   "cell_type": "code",
   "execution_count": 71,
   "metadata": {},
   "outputs": [
    {
     "data": {
      "text/plain": [
       "tensor([[[1.5222, 2.1988, 1.3327, 0.4396, 0.8845]]])"
      ]
     },
     "execution_count": 71,
     "metadata": {},
     "output_type": "execute_result"
    }
   ],
   "source": [
    "# produces attention of incorrect shape\n",
    "merged_chunk_attn = F.scaled_dot_product_attention(chunk_q, chunk_k, chunk_v)\n",
    "merged_chunk_attn"
   ]
  },
  {
   "cell_type": "code",
   "execution_count": 99,
   "metadata": {},
   "outputs": [],
   "source": [
    "# get merge, unmerge functions for each token\n",
    "mq, uq = bipartite_soft_matching(q, r)\n",
    "mk, uk = bipartite_soft_matching(k, r)\n",
    "mv, uv = bipartite_soft_matching(v, r)"
   ]
  },
  {
   "cell_type": "code",
   "execution_count": 100,
   "metadata": {},
   "outputs": [
    {
     "data": {
      "text/plain": [
       "(tensor([[[0.3489, 0.4017, 0.0223, 0.1689, 0.2939],\n",
       "          [0.6341, 0.4901, 0.8964, 0.4556, 0.6323],\n",
       "          [0.5074, 0.7329, 0.4442, 0.1465, 0.2948]]]),\n",
       " tensor([[[0.7576, 0.2793, 0.4031, 0.7347, 0.0293],\n",
       "          [0.7193, 0.4609, 0.7185, 0.4373, 0.4512],\n",
       "          [0.4550, 0.5725, 0.4980, 0.9371, 0.6556]]]))"
      ]
     },
     "execution_count": 100,
     "metadata": {},
     "output_type": "execute_result"
    }
   ],
   "source": [
    "# merge will also result in the same value\n",
    "merged_q = apply_merge(q, mq)\n",
    "merged_k = apply_merge(k, mk)\n",
    "merged_v = apply_merge(v, mv)\n",
    "merged_q, merged_v"
   ]
  },
  {
   "cell_type": "code",
   "execution_count": 101,
   "metadata": {},
   "outputs": [
    {
     "data": {
      "text/plain": [
       "(tensor([[[0.5074, 0.7329, 0.4442, 0.1465, 0.2948],\n",
       "          [0.6341, 0.4901, 0.8964, 0.4556, 0.6323],\n",
       "          [0.3489, 0.4017, 0.0223, 0.1689, 0.2939],\n",
       "          [0.5074, 0.7329, 0.4442, 0.1465, 0.2948]]]),\n",
       " tensor([[[0.7576, 0.2793, 0.4031, 0.7347, 0.0293],\n",
       "          [0.7193, 0.4609, 0.7185, 0.4373, 0.4512],\n",
       "          [0.7193, 0.4609, 0.7185, 0.4373, 0.4512],\n",
       "          [0.4550, 0.5725, 0.4980, 0.9371, 0.6556]]]))"
      ]
     },
     "execution_count": 101,
     "metadata": {},
     "output_type": "execute_result"
    }
   ],
   "source": [
    "# unmerging\n",
    "unmerged_q = uq(merged_q)\n",
    "unmerged_v = uv(merged_v)\n",
    "unmerged_q, unmerged_v"
   ]
  },
  {
   "cell_type": "code",
   "execution_count": 102,
   "metadata": {},
   "outputs": [
    {
     "data": {
      "text/plain": [
       "tensor([[[0.6644, 0.4402, 0.5820, 0.6493, 0.3951],\n",
       "         [0.6665, 0.4440, 0.5968, 0.6577, 0.4172],\n",
       "         [0.6651, 0.4410, 0.5845, 0.6426, 0.3957],\n",
       "         [0.6619, 0.4446, 0.5891, 0.6611, 0.4132]]])"
      ]
     },
     "execution_count": 102,
     "metadata": {},
     "output_type": "execute_result"
    }
   ],
   "source": [
    "# scaled dot product attention\n",
    "attn = F.scaled_dot_product_attention(q, k, v)\n",
    "attn"
   ]
  },
  {
   "cell_type": "code",
   "execution_count": 103,
   "metadata": {},
   "outputs": [
    {
     "data": {
      "text/plain": [
       "tensor([[[0.6420, 0.4424, 0.5467, 0.6977, 0.3897],\n",
       "         [0.6442, 0.4528, 0.5723, 0.6683, 0.4149],\n",
       "         [0.6389, 0.4495, 0.5561, 0.6908, 0.4058]]])"
      ]
     },
     "execution_count": 103,
     "metadata": {},
     "output_type": "execute_result"
    }
   ],
   "source": [
    "merged_attn = F.scaled_dot_product_attention(merged_q, merged_k, merged_v)\n",
    "merged_attn"
   ]
  },
  {
   "cell_type": "code",
   "execution_count": 107,
   "metadata": {},
   "outputs": [
    {
     "data": {
      "text/plain": [
       "(tensor([[[0.6389, 0.4495, 0.5561, 0.6908, 0.4058],\n",
       "          [0.6442, 0.4528, 0.5723, 0.6683, 0.4149],\n",
       "          [0.6420, 0.4424, 0.5467, 0.6977, 0.3897],\n",
       "          [0.6389, 0.4495, 0.5561, 0.6908, 0.4058]]]),\n",
       " tensor([[[0.6420, 0.4424, 0.5467, 0.6977, 0.3897],\n",
       "          [0.6442, 0.4528, 0.5723, 0.6683, 0.4149],\n",
       "          [0.6442, 0.4528, 0.5723, 0.6683, 0.4149],\n",
       "          [0.6389, 0.4495, 0.5561, 0.6908, 0.4058]]]))"
      ]
     },
     "execution_count": 107,
     "metadata": {},
     "output_type": "execute_result"
    }
   ],
   "source": [
    "# Observation: we get different unmerged values using uq and uv which had different matching schemes\n",
    "# mismatches are only in the first dimension\n",
    "unmerged_attn = uq(merged_attn)\n",
    "unmerged_attn_2 = uv(merged_attn)\n",
    "unmerged_attn, unmerged_attn_2"
   ]
  },
  {
   "cell_type": "markdown",
   "metadata": {},
   "source": [
    "## Apply ToMe to Cifar10"
   ]
  },
  {
   "cell_type": "code",
   "execution_count": 217,
   "metadata": {},
   "outputs": [],
   "source": [
    "## patch embed + pos enc\n",
    "import numpy as np\n",
    "import matplotlib.pyplot as plt\n",
    "from torchvision.io import read_image\n",
    "from mae import PatchEmbed, Mlp\n",
    "from util.pos_embed import get_2d_sincos_pos_embed"
   ]
  },
  {
   "cell_type": "code",
   "execution_count": 252,
   "metadata": {},
   "outputs": [
    {
     "data": {
      "text/plain": [
       "<matplotlib.image.AxesImage at 0x15724e550>"
      ]
     },
     "execution_count": 252,
     "metadata": {},
     "output_type": "execute_result"
    },
    {
     "data": {
      "image/png": "[encoded data removed]",
      "text/plain": [
       "<Figure size 640x480 with 1 Axes>"
      ]
     },
     "metadata": {},
     "output_type": "display_data"
    }
   ],
   "source": [
    "img = read_image('assets/frog.jpg')\n",
    "plt.imshow(img.permute(1,2,0).numpy())\n"
   ]
  },
  {
   "cell_type": "code",
   "execution_count": 362,
   "metadata": {},
   "outputs": [],
   "source": [
    "img = img.to(dtype)\n",
    "img = F.normalize(img)"
   ]
  },
  {
   "cell_type": "code",
   "execution_count": 338,
   "metadata": {},
   "outputs": [
    {
     "data": {
      "text/plain": [
       "64"
      ]
     },
     "execution_count": 338,
     "metadata": {},
     "output_type": "execute_result"
    }
   ],
   "source": [
    "embed_dim = 128\n",
    "patch_size = 4\n",
    "in_chans = 3\n",
    "img_size = 32\n",
    "patch_embed = PatchEmbed(img_size=img_size, patch_size=patch_size, in_chans=in_chans, embed_dim=embed_dim)\n",
    "num_patches = patch_embed.num_patches\n",
    "num_patches"
   ]
  },
  {
   "cell_type": "code",
   "execution_count": 339,
   "metadata": {},
   "outputs": [
    {
     "data": {
      "text/plain": [
       "torch.Size([1, 65, 128])"
      ]
     },
     "execution_count": 339,
     "metadata": {},
     "output_type": "execute_result"
    }
   ],
   "source": [
    "pos_embed = torch.nn.Parameter(torch.zeros(1, num_patches + 1, embed_dim), requires_grad=False)\n",
    "pos_embed.shape"
   ]
  },
  {
   "cell_type": "code",
   "execution_count": 340,
   "metadata": {},
   "outputs": [
    {
     "name": "stdout",
     "output_type": "stream",
     "text": [
      "8\n",
      "128\n"
     ]
    },
    {
     "data": {
      "text/plain": [
       "((65, 128),\n",
       " array([[ 0.        ,  0.        ,  0.        , ...,  0.        ,\n",
       "          0.        ,  0.        ],\n",
       "        [ 0.        ,  0.        ,  0.        , ...,  1.        ,\n",
       "          1.        ,  1.        ],\n",
       "        [ 0.84147102,  0.68156135,  0.53316844, ...,  1.        ,\n",
       "          1.        ,  1.        ],\n",
       "        ...,\n",
       "        [-0.95892429, -0.57112712,  0.32393527, ...,  0.99999863,\n",
       "          0.99999923,  0.99999958],\n",
       "        [-0.27941549, -0.97739613, -0.23036753, ...,  0.99999863,\n",
       "          0.99999923,  0.99999958],\n",
       "        [ 0.65698659, -0.85931349, -0.71372128, ...,  0.99999863,\n",
       "          0.99999923,  0.99999958]]))"
      ]
     },
     "execution_count": 340,
     "metadata": {},
     "output_type": "execute_result"
    }
   ],
   "source": [
    "grid_size = int(patch_embed.num_patches**.5)\n",
    "print(grid_size)\n",
    "print(pos_embed.shape[-1])\n",
    "pos_embed_data = get_2d_sincos_pos_embed(pos_embed.shape[-1], grid_size, cls_token=True)\n",
    "pos_embed_data.shape, pos_embed_data"
   ]
  },
  {
   "cell_type": "code",
   "execution_count": 341,
   "metadata": {},
   "outputs": [
    {
     "data": {
      "text/plain": [
       "tensor([[[ 0.0000,  0.0000,  0.0000,  ...,  0.0000,  0.0000,  0.0000],\n",
       "         [ 0.0000,  0.0000,  0.0000,  ...,  1.0000,  1.0000,  1.0000],\n",
       "         [ 0.8415,  0.6816,  0.5332,  ...,  1.0000,  1.0000,  1.0000],\n",
       "         ...,\n",
       "         [-0.9589, -0.5711,  0.3239,  ...,  1.0000,  1.0000,  1.0000],\n",
       "         [-0.2794, -0.9774, -0.2304,  ...,  1.0000,  1.0000,  1.0000],\n",
       "         [ 0.6570, -0.8593, -0.7137,  ...,  1.0000,  1.0000,  1.0000]]])"
      ]
     },
     "execution_count": 341,
     "metadata": {},
     "output_type": "execute_result"
    }
   ],
   "source": [
    "# copy data in parameter\n",
    "pos_embed.data.copy_(torch.from_numpy(pos_embed_data).float().unsqueeze(0))"
   ]
  },
  {
   "cell_type": "code",
   "execution_count": 363,
   "metadata": {},
   "outputs": [
    {
     "name": "stdout",
     "output_type": "stream",
     "text": [
      "torch.Size([1, 3, 32, 32])\n"
     ]
    },
    {
     "data": {
      "text/plain": [
       "torch.Size([1, 64, 128])"
      ]
     },
     "execution_count": 363,
     "metadata": {},
     "output_type": "execute_result"
    }
   ],
   "source": [
    "# unsqueeze\n",
    "batched_img = img.unsqueeze(0).to(dtype)\n",
    "print(batched_img.shape)\n",
    "x = patch_embed(batched_img)\n",
    "x.shape"
   ]
  },
  {
   "cell_type": "code",
   "execution_count": 343,
   "metadata": {},
   "outputs": [
    {
     "data": {
      "text/plain": [
       "(torch.Size([1, 64, 128]),\n",
       " tensor([[[  -7.8969,  -29.3244,  -63.0857,  ...,    0.3936,    5.3780,\n",
       "             39.3657],\n",
       "          [  -2.9058,  -24.1002,  -57.5107,  ...,   -0.5091,    4.5655,\n",
       "             43.3625],\n",
       "          [   4.4390,  -35.3252,  -60.4515,  ...,    6.2933,    3.8840,\n",
       "             49.8933],\n",
       "          ...,\n",
       "          [  -5.6575,  -70.3900, -166.7340,  ...,   12.8151,  -22.8375,\n",
       "             88.1303],\n",
       "          [   4.5165,  -44.6639, -182.0947,  ...,    4.3388,   -3.7992,\n",
       "            108.5713],\n",
       "          [ -13.6902,  -99.2074, -233.6833,  ...,   -2.2315,   -6.4996,\n",
       "            117.8709]]], grad_fn=<AsStridedBackward0>))"
      ]
     },
     "execution_count": 343,
     "metadata": {},
     "output_type": "execute_result"
    }
   ],
   "source": [
    "x += pos_embed[:, 1:, :]\n",
    "x.shape, x"
   ]
  },
  {
   "cell_type": "markdown",
   "metadata": {},
   "source": [
    "## Separating Out Attention\n",
    "\n",
    "Get Q,K,V separately\n",
    "\n",
    "Then apply scaled dot product attention"
   ]
  },
  {
   "cell_type": "code",
   "execution_count": 344,
   "metadata": {},
   "outputs": [
    {
     "data": {
      "text/plain": [
       "(torch.Size([1, 64, 128]),\n",
       " tensor([[[ 31.7062, -10.1665, -16.0091,  ..., -20.7007, -20.4802,  -6.5850],\n",
       "          [ 30.6331,  -6.2660, -19.0779,  ..., -20.7150, -21.7310,  -6.3247],\n",
       "          [ 28.4920,  -3.4446, -19.5949,  ..., -25.7851, -21.3614,   0.7119],\n",
       "          ...,\n",
       "          [ 76.2984, -13.3087, -55.9397,  ..., -52.7782, -50.9471, -20.7806],\n",
       "          [ 93.0243, -21.2017, -67.1351,  ..., -60.7705, -59.6432, -35.4072],\n",
       "          [135.9153, -13.0263, -69.5897,  ..., -96.1189, -76.2452, -30.1858]]],\n",
       "        grad_fn=<AddBackward0>))"
      ]
     },
     "execution_count": 344,
     "metadata": {},
     "output_type": "execute_result"
    }
   ],
   "source": [
    "# fully connected layers to get q, k, v from embed\n",
    "to_q = torch.nn.Linear(embed_dim, embed_dim)\n",
    "to_k = torch.nn.Linear(embed_dim, embed_dim)\n",
    "to_v = torch.nn.Linear(embed_dim, embed_dim)\n",
    "\n",
    "# sourced from fully connected layer\n",
    "fcq, fck, fcv = to_q(x), to_k(x), to_v(x)\n",
    "fcq.shape, fcq"
   ]
  },
  {
   "cell_type": "code",
   "execution_count": 345,
   "metadata": {},
   "outputs": [
    {
     "data": {
      "text/plain": [
       "torch.Size([1, 64, 128])"
      ]
     },
     "execution_count": 345,
     "metadata": {},
     "output_type": "execute_result"
    }
   ],
   "source": [
    "# Examine attention output with no merging\n",
    "original_fcattn = F.scaled_dot_product_attention(fcq, fck, fcv)\n",
    "original_fcattn.shape"
   ]
  },
  {
   "cell_type": "code",
   "execution_count": 346,
   "metadata": {},
   "outputs": [
    {
     "data": {
      "text/plain": [
       "torch.Size([1, 64, 128])"
      ]
     },
     "execution_count": 346,
     "metadata": {},
     "output_type": "execute_result"
    }
   ],
   "source": [
    "# pass through Mlp\n",
    "mlp_ratio = 4\n",
    "mlp = Mlp(in_features=embed_dim, hidden_features=int(embed_dim*mlp_ratio),act_layer=torch.nn.GELU)\n",
    "x = mlp(x)\n",
    "x.shape"
   ]
  },
  {
   "cell_type": "code",
   "execution_count": 170,
   "metadata": {},
   "outputs": [
    {
     "data": {
      "text/plain": [
       "tensor([[[-3.8079e+01, -4.4589e+01,  1.2494e+01, -3.5141e+01, -3.4229e+01,\n",
       "          -1.0312e+01,  3.9906e+00,  2.6112e+01, -2.6709e+01,  2.3092e+01,\n",
       "          -2.1703e+01,  3.9743e+01],\n",
       "         [-7.0699e+01, -8.5814e+01,  1.6703e+01, -6.4156e+01, -5.8966e+01,\n",
       "          -1.7860e+01,  2.2226e+01,  5.0801e+01, -4.0335e+01,  3.1270e+01,\n",
       "          -3.9781e+01,  6.5680e+01],\n",
       "         [-7.8078e+01, -8.6140e+01,  1.6419e+01, -4.4817e+01, -6.6045e+01,\n",
       "          -1.1408e+01,  2.3805e+01,  5.9632e+01, -3.4035e+01,  2.8686e+01,\n",
       "          -3.8101e+01,  5.1275e+01],\n",
       "         [-4.7216e+01, -4.8944e+01,  1.3678e+01, -3.1118e+01, -4.1402e+01,\n",
       "          -5.6516e+00,  1.5331e+01,  4.0762e+01, -2.6380e+01,  2.0535e+01,\n",
       "          -1.8657e+01,  4.1567e+01],\n",
       "         [-5.5042e+01, -5.6675e+01,  1.7649e+01, -5.0718e+01, -4.7245e+01,\n",
       "          -1.1114e+01,  7.4638e+00,  3.7138e+01, -3.2238e+01,  2.9612e+01,\n",
       "          -2.8822e+01,  5.2188e+01],\n",
       "         [-3.8005e+01, -3.8974e+01,  1.2002e+01, -2.2286e+01, -3.1982e+01,\n",
       "          -9.9389e+00,  5.8078e+00,  3.3078e+01, -2.3029e+01,  1.7805e+01,\n",
       "          -1.9153e+01,  2.7697e+01],\n",
       "         [-3.6554e+01, -4.5248e+01,  9.7341e+00, -3.9475e+01, -3.0801e+01,\n",
       "          -6.5799e+00,  1.8096e+00,  2.3054e+01, -2.8106e+01,  2.0703e+01,\n",
       "          -2.2603e+01,  3.7813e+01],\n",
       "         [-3.7967e+01, -4.7989e+01,  1.1542e+01, -2.9983e+01, -3.4458e+01,\n",
       "          -9.2248e+00,  5.3295e+00,  2.8561e+01, -2.5773e+01,  2.0963e+01,\n",
       "          -2.5554e+01,  3.4638e+01],\n",
       "         [-7.1347e+01, -7.2546e+01,  9.3270e+00, -5.3272e+01, -4.7883e+01,\n",
       "          -1.6670e+01,  2.8469e+01,  4.9006e+01, -3.9169e+01,  2.7528e+01,\n",
       "          -2.5613e+01,  5.2143e+01],\n",
       "         [-2.4359e+01, -2.8169e+01,  1.1111e+01, -1.2634e+01, -2.3454e+01,\n",
       "          -5.0257e+00,  5.7806e+00,  2.4818e+01, -1.6977e+01,  1.3018e+01,\n",
       "          -1.3896e+01,  2.1849e+01],\n",
       "         [-9.1271e+01, -1.0081e+02,  2.7071e+01, -4.4782e+01, -7.6369e+01,\n",
       "          -1.7561e+01,  3.9983e+01,  8.3590e+01, -4.5683e+01,  2.8693e+01,\n",
       "          -4.4060e+01,  5.7624e+01],\n",
       "         [-1.7151e+01, -1.8961e+01,  7.2359e+00, -8.9274e+00, -1.6393e+01,\n",
       "          -1.0335e+00,  3.2750e+00,  1.5967e+01, -1.1979e+01,  1.0908e+01,\n",
       "          -1.0129e+01,  1.5255e+01],\n",
       "         [-2.3831e+01, -2.7724e+01,  1.0144e+01, -1.9944e+01, -2.4713e+01,\n",
       "          -2.2344e+00, -2.0357e+00,  1.9505e+01, -1.7000e+01,  1.2694e+01,\n",
       "          -1.3034e+01,  2.3418e+01],\n",
       "         [-7.0588e+01, -8.1453e+01,  9.9823e+00, -3.4760e+01, -5.5205e+01,\n",
       "          -1.4183e+01,  3.4796e+01,  5.4515e+01, -2.9681e+01,  2.4712e+01,\n",
       "          -2.9606e+01,  4.6264e+01],\n",
       "         [-5.6036e+01, -8.4382e+01,  1.8410e+01, -6.3272e+01, -6.0883e+01,\n",
       "          -1.8880e+01, -5.5945e+00,  4.3704e+01, -4.3634e+01,  3.0939e+01,\n",
       "          -4.4340e+01,  6.7123e+01],\n",
       "         [-3.3631e+01, -4.5272e+01,  1.3037e+01, -4.3774e+01, -3.1927e+01,\n",
       "          -1.9459e+01, -6.7252e+00,  2.1278e+01, -3.3227e+01,  2.9004e+01,\n",
       "          -2.6959e+01,  4.8880e+01],\n",
       "         [-1.7944e+01, -2.2050e+01,  9.3000e+00, -2.2147e+01, -1.5529e+01,\n",
       "          -9.3295e+00, -2.6128e+00,  1.4509e+01, -2.1650e+01,  1.8302e+01,\n",
       "          -1.7572e+01,  2.5393e+01],\n",
       "         [-1.8667e+01, -1.7891e+01,  7.5055e+00, -1.2146e+01, -1.5021e+01,\n",
       "          -1.2816e+00,  3.6262e+00,  1.5955e+01, -1.4270e+01,  1.2771e+01,\n",
       "          -9.6846e+00,  1.7101e+01],\n",
       "         [-1.6181e+01, -2.1619e+01,  6.8180e+00, -1.3817e+01, -1.2179e+01,\n",
       "          -9.2691e+00,  8.7673e+00,  1.4842e+01, -1.5619e+01,  1.1808e+01,\n",
       "          -1.4475e+01,  1.7620e+01],\n",
       "         [-7.3509e+01, -6.3670e+01,  8.2378e+00, -2.6970e+01, -5.7017e+01,\n",
       "          -2.6458e+00,  3.6192e+01,  5.8893e+01, -2.0026e+01,  1.9535e+01,\n",
       "          -1.8050e+01,  3.6483e+01],\n",
       "         [-6.6096e+01, -6.2057e+01,  1.2578e+01, -1.0466e+01, -5.6703e+01,\n",
       "           5.2750e+00,  3.8207e+01,  6.5582e+01, -1.6972e+01,  1.8662e+01,\n",
       "          -2.8471e+01,  2.7836e+01],\n",
       "         [-5.8598e+01, -7.3621e+01,  6.0720e+00, -2.1723e+01, -5.1888e+01,\n",
       "          -8.7881e+00,  4.1137e+01,  4.7671e+01, -1.2134e+01,  6.8656e+00,\n",
       "          -2.8277e+01,  2.6907e+01],\n",
       "         [-1.5784e+01, -1.8148e+01,  7.8343e+00, -1.4319e+01, -1.3815e+01,\n",
       "          -4.8221e+00, -3.7336e-01,  1.4096e+01, -1.5307e+01,  1.2942e+01,\n",
       "          -1.2644e+01,  1.8156e+01],\n",
       "         [-1.9190e+01, -2.4233e+01,  4.4174e+00, -1.6322e+01, -1.8975e+01,\n",
       "          -1.6289e+00, -1.5202e+00,  1.3669e+01, -1.3640e+01,  1.2959e+01,\n",
       "          -1.4882e+01,  1.8672e+01],\n",
       "         [-2.6997e+01, -3.0312e+01,  8.3238e+00, -2.4844e+01, -2.4844e+01,\n",
       "          -4.0795e+00,  1.2372e+00,  1.9589e+01, -1.8770e+01,  1.5354e+01,\n",
       "          -1.4198e+01,  2.8403e+01],\n",
       "         [-4.8893e+01, -5.2520e+01,  1.7845e+01, -3.9446e+01, -4.5963e+01,\n",
       "          -1.2421e+01,  9.0465e+00,  4.0342e+01, -3.0561e+01,  2.5713e+01,\n",
       "          -2.2975e+01,  5.0668e+01],\n",
       "         [-2.1831e+01, -2.3393e+01,  6.5458e+00, -1.3591e+01, -1.9769e+01,\n",
       "          -8.2170e-02,  2.0162e+00,  1.7090e+01, -1.3156e+01,  1.1437e+01,\n",
       "          -1.1438e+01,  1.7038e+01],\n",
       "         [-3.3104e+01, -3.8010e+01,  8.8377e+00, -2.2823e+01, -2.9199e+01,\n",
       "           1.6731e-01,  6.4125e+00,  2.4634e+01, -2.1007e+01,  1.9283e+01,\n",
       "          -2.1353e+01,  2.6844e+01],\n",
       "         [-5.1526e+01, -6.1884e+01,  2.9195e+01, -6.4418e+01, -5.3936e+01,\n",
       "          -2.1440e+01, -1.0718e+01,  4.1531e+01, -4.6965e+01,  3.8214e+01,\n",
       "          -3.3657e+01,  7.5415e+01],\n",
       "         [-5.0372e+01, -6.9209e+01,  2.3016e+01, -2.9883e+01, -6.0290e+01,\n",
       "          -5.2313e+00,  8.9222e+00,  5.2121e+01, -2.7925e+01,  2.2241e+01,\n",
       "          -3.3889e+01,  4.9729e+01],\n",
       "         [-4.9633e+01, -5.4421e+01,  1.5806e+01, -4.2992e+01, -4.0396e+01,\n",
       "          -1.2487e+01,  1.2141e+01,  3.5549e+01, -3.2922e+01,  2.8762e+01,\n",
       "          -2.7524e+01,  4.8842e+01],\n",
       "         [-5.3157e+01, -7.8847e+01,  1.9076e+01, -6.4289e+01, -5.7703e+01,\n",
       "          -1.7924e+01,  8.2789e+00,  3.4536e+01, -3.8392e+01,  3.3865e+01,\n",
       "          -4.2063e+01,  7.2700e+01],\n",
       "         [-9.6241e+01, -1.0968e+02,  3.5022e+01, -7.6359e+01, -8.2649e+01,\n",
       "          -2.9333e+01,  1.3209e+01,  8.1738e+01, -6.6650e+01,  4.5666e+01,\n",
       "          -5.1918e+01,  8.6216e+01],\n",
       "         [-4.6246e+01, -3.6421e+01,  1.8693e+01, -1.6242e+01, -4.9157e+01,\n",
       "           6.3050e+00,  2.1099e+01,  5.3980e+01, -1.3780e+01,  1.2372e+01,\n",
       "          -1.1906e+01,  3.4676e+01],\n",
       "         [-5.1662e+01, -5.5376e+01,  1.9532e+01, -4.2231e+01, -4.1586e+01,\n",
       "          -1.7914e+01,  9.5655e+00,  4.1912e+01, -3.7845e+01,  3.0436e+01,\n",
       "          -2.9131e+01,  5.0186e+01],\n",
       "         [-8.6220e+01, -9.1595e+01,  1.9825e+01, -5.5485e+01, -7.0578e+01,\n",
       "          -1.6278e+01,  3.4906e+01,  7.0162e+01, -4.0939e+01,  3.0072e+01,\n",
       "          -3.6864e+01,  6.3387e+01],\n",
       "         [-7.6843e+01, -7.5793e+01,  3.2063e+01, -5.0196e+01, -7.2358e+01,\n",
       "          -8.2184e+00,  2.0746e+01,  7.9012e+01, -4.7589e+01,  3.6715e+01,\n",
       "          -3.7584e+01,  7.1861e+01],\n",
       "         [-1.5305e+01, -1.3860e+01,  3.7643e+00, -1.6032e+01, -1.3963e+01,\n",
       "          -1.6079e-01,  7.9557e+00,  1.1811e+01, -6.5320e+00,  5.7726e+00,\n",
       "          -2.4474e+00,  1.8561e+01],\n",
       "         [-7.8092e+01, -9.2202e+01,  2.4135e+01, -5.5609e+01, -6.2511e+01,\n",
       "          -2.2233e+01,  1.9694e+01,  6.1378e+01, -4.9611e+01,  3.4813e+01,\n",
       "          -4.7223e+01,  5.8998e+01],\n",
       "         [-7.9057e+01, -8.5335e+01,  1.7862e+01, -4.8574e+01, -6.9311e+01,\n",
       "          -1.6450e+01,  2.9847e+01,  6.2886e+01, -3.1428e+01,  2.8537e+01,\n",
       "          -3.4382e+01,  5.9561e+01],\n",
       "         [-7.5759e+01, -9.0145e+01,  1.9687e+01, -4.4883e+01, -8.1337e+01,\n",
       "          -9.2548e+00,  2.2967e+01,  6.8778e+01, -2.6280e+01,  1.7339e+01,\n",
       "          -2.5913e+01,  6.0516e+01],\n",
       "         [-3.7252e+01, -4.2732e+01,  1.3329e+01, -4.0593e+01, -2.9830e+01,\n",
       "          -9.5349e+00,  4.7235e+00,  2.2701e+01, -3.2032e+01,  2.8419e+01,\n",
       "          -2.4943e+01,  4.4409e+01],\n",
       "         [-5.7817e+01, -6.5158e+01,  1.2593e+01, -3.4847e+01, -4.7982e+01,\n",
       "          -1.6799e+01,  1.7307e+01,  4.7185e+01, -3.1082e+01,  2.3446e+01,\n",
       "          -2.8053e+01,  4.1738e+01],\n",
       "         [-4.4691e+01, -4.8819e+01,  1.2560e+01, -2.7816e+01, -3.9668e+01,\n",
       "          -5.8984e+00,  2.0124e+01,  3.8295e+01, -1.9578e+01,  1.5427e+01,\n",
       "          -1.9137e+01,  3.5590e+01],\n",
       "         [-5.2968e+01, -6.3812e+01,  1.3045e+01, -3.5101e+01, -6.2370e+01,\n",
       "           5.2581e+00,  2.0839e+01,  4.9277e+01, -1.4292e+01,  1.2745e+01,\n",
       "          -2.4687e+01,  4.8147e+01],\n",
       "         [-8.5314e+01, -9.6743e+01,  3.3897e+01, -7.1104e+01, -7.4551e+01,\n",
       "          -2.3772e+01,  3.5922e+00,  6.9041e+01, -6.0405e+01,  4.3160e+01,\n",
       "          -4.7094e+01,  7.6572e+01],\n",
       "         [-5.3460e+01, -6.2365e+01,  1.5585e+01, -4.1661e+01, -4.9739e+01,\n",
       "          -1.0252e+01,  1.6281e+01,  4.1365e+01, -3.0094e+01,  2.8067e+01,\n",
       "          -2.8666e+01,  5.3293e+01],\n",
       "         [-6.5480e+01, -7.7387e+01,  2.5806e+01, -4.2710e+01, -6.0915e+01,\n",
       "          -1.1255e+01,  2.1394e+01,  5.8968e+01, -3.8893e+01,  2.9381e+01,\n",
       "          -3.8907e+01,  5.6282e+01],\n",
       "         [-6.5608e+01, -7.8548e+01,  1.8486e+01, -4.1645e+01, -6.4122e+01,\n",
       "          -1.0378e+01,  2.2300e+01,  5.6885e+01, -2.7561e+01,  2.0028e+01,\n",
       "          -2.5748e+01,  5.5681e+01],\n",
       "         [-7.5974e+01, -1.0727e+02,  2.8075e+01, -6.7070e+01, -6.7392e+01,\n",
       "          -2.5862e+01,  2.3495e+01,  5.8822e+01, -5.5087e+01,  3.5064e+01,\n",
       "          -4.8138e+01,  7.6664e+01],\n",
       "         [-4.9872e+01, -5.4272e+01,  2.3084e+01, -3.8437e+01, -5.1090e+01,\n",
       "          -6.0676e+00,  1.0908e+01,  4.8214e+01, -2.9315e+01,  2.3111e+01,\n",
       "          -2.1426e+01,  5.3272e+01],\n",
       "         [-4.6257e+01, -4.8105e+01,  1.7261e+01, -3.8376e+01, -4.5815e+01,\n",
       "          -8.0339e+00,  4.4210e+00,  4.1710e+01, -2.9496e+01,  2.3228e+01,\n",
       "          -2.1280e+01,  4.8373e+01],\n",
       "         [-6.3979e+01, -6.8228e+01,  1.6103e+01, -5.4661e+01, -4.4840e+01,\n",
       "          -2.0070e+01,  2.3052e+01,  4.2776e+01, -3.7443e+01,  2.4869e+01,\n",
       "          -3.2629e+01,  4.7586e+01],\n",
       "         [-1.0437e+02, -1.1705e+02,  2.9035e+01, -6.9312e+01, -9.0681e+01,\n",
       "          -2.4634e+01,  2.0968e+01,  7.8215e+01, -5.6992e+01,  4.6116e+01,\n",
       "          -5.0046e+01,  8.0480e+01]]], grad_fn=<DivBackward0>)"
      ]
     },
     "execution_count": 170,
     "metadata": {},
     "output_type": "execute_result"
    }
   ],
   "source": [
    "# now we want to merge all of them\n",
    "cifar_r = 10 # might higher merge rate r because we have a larger embed dim\n",
    "mfcq, ufcq = bipartite_soft_matching(fcq, cifar_r)\n",
    "merged_fcq = apply_merge(fcq, mfcq)\n",
    "merged_fcq"
   ]
  },
  {
   "cell_type": "code",
   "execution_count": 172,
   "metadata": {},
   "outputs": [
    {
     "data": {
      "text/plain": [
       "torch.Size([1, 54, 12])"
      ]
     },
     "execution_count": 172,
     "metadata": {},
     "output_type": "execute_result"
    }
   ],
   "source": [
    "# use same merging function for all 3?\n",
    "merged_fck = apply_merge(fck, mfcq)\n",
    "merged_fcv = apply_merge(fcv, mfcq)\n",
    "merged_fck.shape"
   ]
  },
  {
   "cell_type": "code",
   "execution_count": 176,
   "metadata": {},
   "outputs": [
    {
     "data": {
      "text/plain": [
       "tensor([[[-43.4441,   2.2759,  -4.3172,   8.7908, -14.0302,  44.2026, -69.1611,\n",
       "            3.5828,  41.8453, -13.7127, -24.3745,   1.3579],\n",
       "         [-43.4441,   2.2759,  -4.3172,   8.7908, -14.0302,  44.2026, -69.1611,\n",
       "            3.5828,  41.8453, -13.7127, -24.3745,   1.3579],\n",
       "         [-43.4441,   2.2759,  -4.3172,   8.7908, -14.0302,  44.2026, -69.1611,\n",
       "            3.5828,  41.8453, -13.7127, -24.3745,   1.3579],\n",
       "         [-43.4441,   2.2759,  -4.3172,   8.7908, -14.0302,  44.2026, -69.1611,\n",
       "            3.5828,  41.8453, -13.7127, -24.3745,   1.3579],\n",
       "         [-43.4441,   2.2759,  -4.3172,   8.7908, -14.0302,  44.2026, -69.1611,\n",
       "            3.5828,  41.8453, -13.7127, -24.3745,   1.3579],\n",
       "         [-43.4441,   2.2759,  -4.3172,   8.7908, -14.0302,  44.2026, -69.1611,\n",
       "            3.5828,  41.8453, -13.7127, -24.3745,   1.3579],\n",
       "         [-43.4441,   2.2759,  -4.3172,   8.7908, -14.0302,  44.2026, -69.1611,\n",
       "            3.5828,  41.8453, -13.7127, -24.3745,   1.3579],\n",
       "         [-43.4441,   2.2759,  -4.3172,   8.7908, -14.0302,  44.2026, -69.1611,\n",
       "            3.5828,  41.8453, -13.7127, -24.3745,   1.3579],\n",
       "         [-43.4441,   2.2759,  -4.3172,   8.7908, -14.0302,  44.2026, -69.1611,\n",
       "            3.5828,  41.8453, -13.7127, -24.3745,   1.3579],\n",
       "         [-43.4441,   2.2759,  -4.3172,   8.7908, -14.0302,  44.2026, -69.1611,\n",
       "            3.5828,  41.8453, -13.7127, -24.3745,   1.3579],\n",
       "         [-43.4441,   2.2759,  -4.3172,   8.7908, -14.0302,  44.2026, -69.1611,\n",
       "            3.5828,  41.8453, -13.7127, -24.3745,   1.3579],\n",
       "         [-43.4441,   2.2759,  -4.3172,   8.7908, -14.0302,  44.2026, -69.1611,\n",
       "            3.5828,  41.8453, -13.7127, -24.3745,   1.3579],\n",
       "         [-43.4441,   2.2759,  -4.3172,   8.7908, -14.0302,  44.2026, -69.1611,\n",
       "            3.5828,  41.8453, -13.7127, -24.3745,   1.3579],\n",
       "         [-43.4441,   2.2759,  -4.3172,   8.7908, -14.0302,  44.2026, -69.1611,\n",
       "            3.5828,  41.8453, -13.7127, -24.3745,   1.3579],\n",
       "         [-43.4441,   2.2759,  -4.3172,   8.7908, -14.0302,  44.2026, -69.1611,\n",
       "            3.5828,  41.8453, -13.7127, -24.3745,   1.3579],\n",
       "         [-43.4441,   2.2759,  -4.3172,   8.7908, -14.0302,  44.2026, -69.1611,\n",
       "            3.5828,  41.8453, -13.7127, -24.3745,   1.3579],\n",
       "         [-51.9645, -34.7510,   0.2547,  41.6594,  -5.3535,  76.1394, -93.7519,\n",
       "          -25.9178,  35.3476, -45.6129, -17.8631,  -4.9546],\n",
       "         [-43.4441,   2.2759,  -4.3172,   8.7908, -14.0302,  44.2026, -69.1611,\n",
       "            3.5828,  41.8453, -13.7127, -24.3745,   1.3579],\n",
       "         [-43.4441,   2.2758,  -4.3172,   8.7908, -14.0301,  44.2026, -69.1611,\n",
       "            3.5828,  41.8453, -13.7127, -24.3745,   1.3579],\n",
       "         [-43.4441,   2.2759,  -4.3172,   8.7908, -14.0302,  44.2026, -69.1611,\n",
       "            3.5828,  41.8453, -13.7127, -24.3745,   1.3579],\n",
       "         [-43.4441,   2.2759,  -4.3172,   8.7908, -14.0302,  44.2026, -69.1611,\n",
       "            3.5828,  41.8453, -13.7127, -24.3745,   1.3579],\n",
       "         [-43.4441,   2.2759,  -4.3172,   8.7908, -14.0302,  44.2026, -69.1611,\n",
       "            3.5828,  41.8453, -13.7127, -24.3745,   1.3579],\n",
       "         [-49.4299, -23.7361,  -1.1053,  31.8815,  -7.9346,  66.6388, -86.4365,\n",
       "          -17.1419,  37.2805, -36.1231, -19.8001,  -3.0767],\n",
       "         [-43.4441,   2.2759,  -4.3172,   8.7908, -14.0302,  44.2026, -69.1611,\n",
       "            3.5828,  41.8453, -13.7127, -24.3745,   1.3579],\n",
       "         [-43.4441,   2.2759,  -4.3172,   8.7908, -14.0302,  44.2026, -69.1611,\n",
       "            3.5828,  41.8453, -13.7127, -24.3745,   1.3579],\n",
       "         [-43.4441,   2.2759,  -4.3172,   8.7908, -14.0302,  44.2026, -69.1611,\n",
       "            3.5828,  41.8453, -13.7127, -24.3745,   1.3579],\n",
       "         [-43.4441,   2.2759,  -4.3172,   8.7908, -14.0302,  44.2026, -69.1611,\n",
       "            3.5828,  41.8453, -13.7127, -24.3745,   1.3579],\n",
       "         [-43.4441,   2.2759,  -4.3172,   8.7908, -14.0302,  44.2026, -69.1611,\n",
       "            3.5828,  41.8453, -13.7127, -24.3745,   1.3579],\n",
       "         [-43.4441,   2.2759,  -4.3172,   8.7908, -14.0302,  44.2026, -69.1611,\n",
       "            3.5828,  41.8453, -13.7127, -24.3745,   1.3579],\n",
       "         [-43.4441,   2.2759,  -4.3172,   8.7908, -14.0302,  44.2026, -69.1611,\n",
       "            3.5828,  41.8453, -13.7127, -24.3745,   1.3579],\n",
       "         [-43.4441,   2.2759,  -4.3172,   8.7908, -14.0302,  44.2026, -69.1611,\n",
       "            3.5828,  41.8453, -13.7127, -24.3745,   1.3579],\n",
       "         [-43.4441,   2.2759,  -4.3172,   8.7908, -14.0302,  44.2026, -69.1611,\n",
       "            3.5828,  41.8453, -13.7127, -24.3745,   1.3579],\n",
       "         [-43.4441,   2.2759,  -4.3172,   8.7908, -14.0302,  44.2026, -69.1611,\n",
       "            3.5828,  41.8453, -13.7127, -24.3745,   1.3579],\n",
       "         [-43.4441,   2.2759,  -4.3172,   8.7908, -14.0302,  44.2026, -69.1611,\n",
       "            3.5828,  41.8453, -13.7127, -24.3745,   1.3579],\n",
       "         [-43.4441,   2.2759,  -4.3172,   8.7908, -14.0302,  44.2026, -69.1611,\n",
       "            3.5828,  41.8453, -13.7127, -24.3745,   1.3579],\n",
       "         [-43.4441,   2.2759,  -4.3172,   8.7908, -14.0302,  44.2026, -69.1611,\n",
       "            3.5828,  41.8453, -13.7127, -24.3745,   1.3579],\n",
       "         [-43.4441,   2.2759,  -4.3172,   8.7908, -14.0302,  44.2026, -69.1611,\n",
       "            3.5828,  41.8453, -13.7127, -24.3745,   1.3579],\n",
       "         [-43.4441,   2.2759,  -4.3172,   8.7908, -14.0302,  44.2026, -69.1611,\n",
       "            3.5828,  41.8453, -13.7127, -24.3745,   1.3579],\n",
       "         [-43.4441,   2.2759,  -4.3172,   8.7908, -14.0302,  44.2026, -69.1611,\n",
       "            3.5828,  41.8453, -13.7127, -24.3745,   1.3579],\n",
       "         [-43.4441,   2.2759,  -4.3172,   8.7908, -14.0302,  44.2026, -69.1611,\n",
       "            3.5828,  41.8453, -13.7127, -24.3745,   1.3579],\n",
       "         [-43.4441,   2.2759,  -4.3172,   8.7908, -14.0302,  44.2026, -69.1611,\n",
       "            3.5828,  41.8453, -13.7127, -24.3745,   1.3579],\n",
       "         [-43.4441,   2.2759,  -4.3172,   8.7908, -14.0302,  44.2026, -69.1611,\n",
       "            3.5828,  41.8453, -13.7127, -24.3745,   1.3579],\n",
       "         [-43.4441,   2.2759,  -4.3172,   8.7908, -14.0302,  44.2026, -69.1611,\n",
       "            3.5828,  41.8453, -13.7127, -24.3745,   1.3579],\n",
       "         [-43.4441,   2.2759,  -4.3172,   8.7908, -14.0302,  44.2026, -69.1611,\n",
       "            3.5828,  41.8453, -13.7127, -24.3745,   1.3579],\n",
       "         [-43.4441,   2.2759,  -4.3172,   8.7908, -14.0302,  44.2026, -69.1611,\n",
       "            3.5828,  41.8453, -13.7127, -24.3745,   1.3579],\n",
       "         [-43.4441,   2.2759,  -4.3172,   8.7908, -14.0302,  44.2026, -69.1611,\n",
       "            3.5828,  41.8453, -13.7127, -24.3745,   1.3579],\n",
       "         [-43.4441,   2.2759,  -4.3172,   8.7908, -14.0302,  44.2026, -69.1611,\n",
       "            3.5828,  41.8453, -13.7127, -24.3745,   1.3579],\n",
       "         [-43.4441,   2.2759,  -4.3172,   8.7908, -14.0302,  44.2026, -69.1611,\n",
       "            3.5828,  41.8453, -13.7127, -24.3745,   1.3579],\n",
       "         [-43.4441,   2.2759,  -4.3172,   8.7908, -14.0302,  44.2026, -69.1611,\n",
       "            3.5828,  41.8453, -13.7127, -24.3745,   1.3579],\n",
       "         [-43.4441,   2.2759,  -4.3172,   8.7908, -14.0302,  44.2026, -69.1611,\n",
       "            3.5828,  41.8453, -13.7127, -24.3745,   1.3579],\n",
       "         [-43.4441,   2.2759,  -4.3172,   8.7908, -14.0302,  44.2026, -69.1611,\n",
       "            3.5828,  41.8453, -13.7127, -24.3745,   1.3579],\n",
       "         [-43.4441,   2.2759,  -4.3172,   8.7908, -14.0302,  44.2026, -69.1611,\n",
       "            3.5828,  41.8453, -13.7127, -24.3745,   1.3579],\n",
       "         [-43.4441,   2.2759,  -4.3172,   8.7908, -14.0302,  44.2026, -69.1611,\n",
       "            3.5828,  41.8453, -13.7127, -24.3745,   1.3579],\n",
       "         [-43.4441,   2.2759,  -4.3172,   8.7908, -14.0302,  44.2026, -69.1611,\n",
       "            3.5828,  41.8453, -13.7127, -24.3745,   1.3579]]],\n",
       "       grad_fn=<UnsafeViewBackward0>)"
      ]
     },
     "execution_count": 176,
     "metadata": {},
     "output_type": "execute_result"
    }
   ],
   "source": [
    "# attention between all 3 now\n",
    "# appears that each value is off by about 10, which is the reduction ratio\n",
    "merged_fcattn = F.scaled_dot_product_attention(merged_fcq, merged_fck, merged_fcv)\n",
    "merged_fcattn"
   ]
  },
  {
   "cell_type": "code",
   "execution_count": 179,
   "metadata": {},
   "outputs": [
    {
     "data": {
      "text/plain": [
       "tensor([[[-49.4299, -23.7361,  -1.1053,  31.8815,  -7.9346,  66.6388, -86.4365,\n",
       "          -17.1419,  37.2805, -36.1231, -19.8001,  -3.0767],\n",
       "         [-49.4299, -23.7361,  -1.1053,  31.8815,  -7.9346,  66.6388, -86.4365,\n",
       "          -17.1419,  37.2805, -36.1231, -19.8001,  -3.0767],\n",
       "         [-43.4441,   2.2759,  -4.3172,   8.7908, -14.0302,  44.2026, -69.1611,\n",
       "            3.5828,  41.8453, -13.7127, -24.3745,   1.3579],\n",
       "         [-43.4441,   2.2759,  -4.3172,   8.7908, -14.0302,  44.2026, -69.1611,\n",
       "            3.5828,  41.8453, -13.7127, -24.3745,   1.3579],\n",
       "         [-43.4441,   2.2759,  -4.3172,   8.7908, -14.0302,  44.2026, -69.1611,\n",
       "            3.5828,  41.8453, -13.7127, -24.3745,   1.3579],\n",
       "         [-43.4441,   2.2759,  -4.3172,   8.7908, -14.0302,  44.2026, -69.1611,\n",
       "            3.5828,  41.8453, -13.7127, -24.3745,   1.3579],\n",
       "         [-43.4441,   2.2759,  -4.3172,   8.7908, -14.0302,  44.2026, -69.1611,\n",
       "            3.5828,  41.8453, -13.7127, -24.3745,   1.3579],\n",
       "         [-43.4441,   2.2759,  -4.3172,   8.7908, -14.0302,  44.2026, -69.1611,\n",
       "            3.5828,  41.8453, -13.7127, -24.3745,   1.3579],\n",
       "         [-43.4441,   2.2759,  -4.3172,   8.7908, -14.0302,  44.2026, -69.1611,\n",
       "            3.5828,  41.8453, -13.7127, -24.3745,   1.3579],\n",
       "         [-43.4441,   2.2759,  -4.3172,   8.7908, -14.0302,  44.2026, -69.1611,\n",
       "            3.5828,  41.8453, -13.7127, -24.3745,   1.3579],\n",
       "         [-43.4441,   2.2759,  -4.3172,   8.7908, -14.0302,  44.2026, -69.1611,\n",
       "            3.5828,  41.8453, -13.7127, -24.3745,   1.3579],\n",
       "         [-43.4441,   2.2759,  -4.3172,   8.7908, -14.0302,  44.2026, -69.1611,\n",
       "            3.5828,  41.8453, -13.7127, -24.3745,   1.3579],\n",
       "         [-43.4441,   2.2759,  -4.3172,   8.7908, -14.0302,  44.2026, -69.1611,\n",
       "            3.5828,  41.8453, -13.7127, -24.3745,   1.3579],\n",
       "         [-43.4441,   2.2759,  -4.3172,   8.7908, -14.0302,  44.2026, -69.1611,\n",
       "            3.5828,  41.8453, -13.7127, -24.3745,   1.3579],\n",
       "         [-43.4441,   2.2759,  -4.3172,   8.7908, -14.0302,  44.2026, -69.1611,\n",
       "            3.5828,  41.8453, -13.7127, -24.3745,   1.3579],\n",
       "         [-43.4441,   2.2759,  -4.3172,   8.7908, -14.0302,  44.2026, -69.1611,\n",
       "            3.5828,  41.8453, -13.7127, -24.3745,   1.3579],\n",
       "         [-43.4441,   2.2759,  -4.3172,   8.7908, -14.0302,  44.2026, -69.1611,\n",
       "            3.5828,  41.8453, -13.7127, -24.3745,   1.3579],\n",
       "         [-43.4441,   2.2759,  -4.3172,   8.7908, -14.0302,  44.2026, -69.1611,\n",
       "            3.5828,  41.8453, -13.7127, -24.3745,   1.3579],\n",
       "         [-43.4441,   2.2759,  -4.3172,   8.7908, -14.0302,  44.2026, -69.1611,\n",
       "            3.5828,  41.8453, -13.7127, -24.3745,   1.3579],\n",
       "         [-43.4441,   2.2759,  -4.3172,   8.7908, -14.0302,  44.2026, -69.1611,\n",
       "            3.5828,  41.8453, -13.7127, -24.3745,   1.3579],\n",
       "         [-43.4441,   2.2759,  -4.3172,   8.7908, -14.0302,  44.2026, -69.1611,\n",
       "            3.5828,  41.8453, -13.7127, -24.3745,   1.3579],\n",
       "         [-43.4441,   2.2759,  -4.3172,   8.7908, -14.0302,  44.2026, -69.1611,\n",
       "            3.5828,  41.8453, -13.7127, -24.3745,   1.3579],\n",
       "         [-43.4441,   2.2759,  -4.3172,   8.7908, -14.0302,  44.2026, -69.1611,\n",
       "            3.5828,  41.8453, -13.7127, -24.3745,   1.3579],\n",
       "         [-43.4441,   2.2759,  -4.3172,   8.7908, -14.0302,  44.2026, -69.1611,\n",
       "            3.5828,  41.8453, -13.7127, -24.3745,   1.3579],\n",
       "         [-43.4441,   2.2758,  -4.3172,   8.7908, -14.0301,  44.2026, -69.1611,\n",
       "            3.5828,  41.8453, -13.7127, -24.3745,   1.3579],\n",
       "         [-43.4441,   2.2759,  -4.3172,   8.7908, -14.0302,  44.2026, -69.1611,\n",
       "            3.5828,  41.8453, -13.7127, -24.3745,   1.3579],\n",
       "         [-43.4441,   2.2759,  -4.3172,   8.7908, -14.0302,  44.2026, -69.1611,\n",
       "            3.5828,  41.8453, -13.7127, -24.3745,   1.3579],\n",
       "         [-43.4441,   2.2759,  -4.3172,   8.7908, -14.0302,  44.2026, -69.1611,\n",
       "            3.5828,  41.8453, -13.7127, -24.3745,   1.3579],\n",
       "         [-43.4441,   2.2759,  -4.3172,   8.7908, -14.0302,  44.2026, -69.1611,\n",
       "            3.5828,  41.8453, -13.7127, -24.3745,   1.3579],\n",
       "         [-43.4441,   2.2759,  -4.3172,   8.7908, -14.0302,  44.2026, -69.1611,\n",
       "            3.5828,  41.8453, -13.7127, -24.3745,   1.3579],\n",
       "         [-43.4441,   2.2759,  -4.3172,   8.7908, -14.0302,  44.2026, -69.1611,\n",
       "            3.5828,  41.8453, -13.7127, -24.3745,   1.3579],\n",
       "         [-43.4441,   2.2759,  -4.3172,   8.7908, -14.0302,  44.2026, -69.1611,\n",
       "            3.5828,  41.8453, -13.7127, -24.3745,   1.3579],\n",
       "         [-51.9645, -34.7510,   0.2547,  41.6594,  -5.3535,  76.1394, -93.7519,\n",
       "          -25.9178,  35.3476, -45.6129, -17.8631,  -4.9546],\n",
       "         [-43.4441,   2.2759,  -4.3172,   8.7908, -14.0302,  44.2026, -69.1611,\n",
       "            3.5828,  41.8453, -13.7127, -24.3745,   1.3579],\n",
       "         [-43.4441,   2.2759,  -4.3172,   8.7908, -14.0302,  44.2026, -69.1611,\n",
       "            3.5828,  41.8453, -13.7127, -24.3745,   1.3579],\n",
       "         [-43.4441,   2.2759,  -4.3172,   8.7908, -14.0302,  44.2026, -69.1611,\n",
       "            3.5828,  41.8453, -13.7127, -24.3745,   1.3579],\n",
       "         [-43.4441,   2.2759,  -4.3172,   8.7908, -14.0302,  44.2026, -69.1611,\n",
       "            3.5828,  41.8453, -13.7127, -24.3745,   1.3579],\n",
       "         [-43.4441,   2.2759,  -4.3172,   8.7908, -14.0302,  44.2026, -69.1611,\n",
       "            3.5828,  41.8453, -13.7127, -24.3745,   1.3579],\n",
       "         [-43.4441,   2.2759,  -4.3172,   8.7908, -14.0302,  44.2026, -69.1611,\n",
       "            3.5828,  41.8453, -13.7127, -24.3745,   1.3579],\n",
       "         [-43.4441,   2.2759,  -4.3172,   8.7908, -14.0302,  44.2026, -69.1611,\n",
       "            3.5828,  41.8453, -13.7127, -24.3745,   1.3579],\n",
       "         [-43.4441,   2.2759,  -4.3172,   8.7908, -14.0302,  44.2026, -69.1611,\n",
       "            3.5828,  41.8453, -13.7127, -24.3745,   1.3579],\n",
       "         [-43.4441,   2.2759,  -4.3172,   8.7908, -14.0302,  44.2026, -69.1611,\n",
       "            3.5828,  41.8453, -13.7127, -24.3745,   1.3579],\n",
       "         [-43.4441,   2.2759,  -4.3172,   8.7908, -14.0302,  44.2026, -69.1611,\n",
       "            3.5828,  41.8453, -13.7127, -24.3745,   1.3579],\n",
       "         [-43.4441,   2.2759,  -4.3172,   8.7908, -14.0302,  44.2026, -69.1611,\n",
       "            3.5828,  41.8453, -13.7127, -24.3745,   1.3579],\n",
       "         [-43.4441,   2.2759,  -4.3172,   8.7908, -14.0302,  44.2026, -69.1611,\n",
       "            3.5828,  41.8453, -13.7127, -24.3745,   1.3579],\n",
       "         [-43.4441,   2.2759,  -4.3172,   8.7908, -14.0302,  44.2026, -69.1611,\n",
       "            3.5828,  41.8453, -13.7127, -24.3745,   1.3579],\n",
       "         [-43.4441,   2.2759,  -4.3172,   8.7908, -14.0302,  44.2026, -69.1611,\n",
       "            3.5828,  41.8453, -13.7127, -24.3745,   1.3579],\n",
       "         [-43.4441,   2.2759,  -4.3172,   8.7908, -14.0302,  44.2026, -69.1611,\n",
       "            3.5828,  41.8453, -13.7127, -24.3745,   1.3579],\n",
       "         [-43.4441,   2.2759,  -4.3172,   8.7908, -14.0302,  44.2026, -69.1611,\n",
       "            3.5828,  41.8453, -13.7127, -24.3745,   1.3579],\n",
       "         [-43.4441,   2.2759,  -4.3172,   8.7908, -14.0302,  44.2026, -69.1611,\n",
       "            3.5828,  41.8453, -13.7127, -24.3745,   1.3579],\n",
       "         [-43.4441,   2.2759,  -4.3172,   8.7908, -14.0302,  44.2026, -69.1611,\n",
       "            3.5828,  41.8453, -13.7127, -24.3745,   1.3579],\n",
       "         [-43.4441,   2.2759,  -4.3172,   8.7908, -14.0302,  44.2026, -69.1611,\n",
       "            3.5828,  41.8453, -13.7127, -24.3745,   1.3579],\n",
       "         [-43.4441,   2.2759,  -4.3172,   8.7908, -14.0302,  44.2026, -69.1611,\n",
       "            3.5828,  41.8453, -13.7127, -24.3745,   1.3579],\n",
       "         [-43.4441,   2.2759,  -4.3172,   8.7908, -14.0302,  44.2026, -69.1611,\n",
       "            3.5828,  41.8453, -13.7127, -24.3745,   1.3579],\n",
       "         [-43.4441,   2.2759,  -4.3172,   8.7908, -14.0302,  44.2026, -69.1611,\n",
       "            3.5828,  41.8453, -13.7127, -24.3745,   1.3579],\n",
       "         [-43.4441,   2.2759,  -4.3172,   8.7908, -14.0302,  44.2026, -69.1611,\n",
       "            3.5828,  41.8453, -13.7127, -24.3745,   1.3579],\n",
       "         [-43.4441,   2.2759,  -4.3172,   8.7908, -14.0302,  44.2026, -69.1611,\n",
       "            3.5828,  41.8453, -13.7127, -24.3745,   1.3579],\n",
       "         [-43.4441,   2.2759,  -4.3172,   8.7908, -14.0302,  44.2026, -69.1611,\n",
       "            3.5828,  41.8453, -13.7127, -24.3745,   1.3579],\n",
       "         [-43.4441,   2.2759,  -4.3172,   8.7908, -14.0302,  44.2026, -69.1611,\n",
       "            3.5828,  41.8453, -13.7127, -24.3745,   1.3579],\n",
       "         [-43.4441,   2.2759,  -4.3172,   8.7908, -14.0302,  44.2026, -69.1611,\n",
       "            3.5828,  41.8453, -13.7127, -24.3745,   1.3579],\n",
       "         [-43.4441,   2.2759,  -4.3172,   8.7908, -14.0302,  44.2026, -69.1611,\n",
       "            3.5828,  41.8453, -13.7127, -24.3745,   1.3579],\n",
       "         [-43.4441,   2.2759,  -4.3172,   8.7908, -14.0302,  44.2026, -69.1611,\n",
       "            3.5828,  41.8453, -13.7127, -24.3745,   1.3579],\n",
       "         [-43.4441,   2.2759,  -4.3172,   8.7908, -14.0302,  44.2026, -69.1611,\n",
       "            3.5828,  41.8453, -13.7127, -24.3745,   1.3579],\n",
       "         [-43.4441,   2.2759,  -4.3172,   8.7908, -14.0302,  44.2026, -69.1611,\n",
       "            3.5828,  41.8453, -13.7127, -24.3745,   1.3579]]],\n",
       "       grad_fn=<ScatterBackward0>)"
      ]
     },
     "execution_count": 179,
     "metadata": {},
     "output_type": "execute_result"
    }
   ],
   "source": [
    "# unmerge the attention\n",
    "fc_attn = ufcq(merged_fcattn)\n",
    "fc_attn"
   ]
  },
  {
   "cell_type": "markdown",
   "metadata": {},
   "source": [
    "## Restore original image\n",
    "\n",
    "Data flows through variable called `x`"
   ]
  },
  {
   "cell_type": "code",
   "execution_count": 347,
   "metadata": {},
   "outputs": [],
   "source": [
    "# unpatch embed vector\n",
    "def unpatchify(x):\n",
    "    \"\"\"\n",
    "    x: (N, L, patch_size**2 *3)\n",
    "    imgs: (N, 3, H, W)\n",
    "    \"\"\"\n",
    "    p = patch_embed.patch_size[0]\n",
    "    h = w = int(x.shape[1]**.5)\n",
    "    assert h * w == x.shape[1]\n",
    "    \n",
    "    x = x.reshape(shape=(x.shape[0], h, w, p, p, 3))\n",
    "    x = torch.einsum('nhwpqc->nchpwq', x)\n",
    "    imgs = x.reshape(shape=(x.shape[0], 3, h * p, h * p))\n",
    "    return imgs"
   ]
  },
  {
   "cell_type": "code",
   "execution_count": 263,
   "metadata": {},
   "outputs": [],
   "source": [
    "# set x to whichever attn output we want\n",
    "x = x"
   ]
  },
  {
   "cell_type": "code",
   "execution_count": 348,
   "metadata": {},
   "outputs": [
    {
     "data": {
      "text/plain": [
       "tensor([[[ 0.5157,  0.9371,  0.5276,  ..., -0.4513,  0.6232,  0.1919],\n",
       "         [ 0.5393,  0.8178,  0.6809,  ..., -0.5261,  0.5184,  0.1275],\n",
       "         [ 0.5337,  0.7038,  0.5630,  ..., -0.6070,  0.5394,  0.4655],\n",
       "         ...,\n",
       "         [ 0.2646,  0.5606,  0.5818,  ..., -0.6069,  0.3468, -0.0211],\n",
       "         [ 0.7251,  0.6559,  0.5164,  ..., -0.7048,  0.6041, -0.0169],\n",
       "         [ 0.6021,  0.7157,  0.5304,  ..., -0.5704,  0.5544,  0.2615]]],\n",
       "       grad_fn=<ViewBackward0>)"
      ]
     },
     "execution_count": 348,
     "metadata": {},
     "output_type": "execute_result"
    }
   ],
   "source": [
    "# normalize\n",
    "norm = torch.nn.LayerNorm(embed_dim)\n",
    "x = norm(x)\n",
    "\n",
    "# change back to 3 channels\n",
    "pred_fc = torch.nn.Linear(embed_dim, patch_size **2 * in_chans, bias=True)\n",
    "x = pred_fc(x)\n",
    "x"
   ]
  },
  {
   "cell_type": "code",
   "execution_count": 349,
   "metadata": {},
   "outputs": [
    {
     "data": {
      "text/plain": [
       "torch.Size([1, 3, 32, 32])"
      ]
     },
     "execution_count": 349,
     "metadata": {},
     "output_type": "execute_result"
    }
   ],
   "source": [
    "x = unpatchify(x)\n",
    "x.shape"
   ]
  },
  {
   "cell_type": "code",
   "execution_count": 273,
   "metadata": {},
   "outputs": [],
   "source": [
    "def vis(x):\n",
    "    tmp_img = x.squeeze(0).permute(1, 2, 0).detach().numpy()\n",
    "    tmp_img = tmp_img - tmp_img.min()  # Shift to 0..range\n",
    "    tmp_img = tmp_img / tmp_img.max()  # Scale to 0..1\n",
    "    tmp_img = tmp_img * 255.0  # Scale to 0..255\n",
    "\n",
    "    # Step 3: Convert to uint8\n",
    "    tmp_img = tmp_img.astype(np.uint8)\n",
    "    plt.imshow(tmp_img)"
   ]
  },
  {
   "cell_type": "markdown",
   "metadata": {},
   "source": [
    "## Loss function: MSE or pixel reconstruction"
   ]
  },
  {
   "cell_type": "code",
   "execution_count": 428,
   "metadata": {},
   "outputs": [],
   "source": [
    "# calculate backward pass of MSE\n",
    "def mse(pred, truth):\n",
    "    loss = (pred - truth) ** 2\n",
    "    loss = loss.mean(dim=-1)\n",
    "    loss = loss.sum()\n",
    "    return loss"
   ]
  },
  {
   "cell_type": "code",
   "execution_count": 462,
   "metadata": {},
   "outputs": [],
   "source": [
    "# combine all elements into a single module\n",
    "class EncoderBlock(torch.nn.Module):\n",
    "    def __init__(self, dim):\n",
    "        super().__init__()\n",
    "        self.norm1 = torch.nn.LayerNorm(dim)\n",
    "        self.norm2 = torch.nn.LayerNorm(dim)\n",
    "        self.to_q = torch.nn.Linear(dim, dim)\n",
    "        self.to_k = torch.nn.Linear(dim, dim)\n",
    "        self.to_v = torch.nn.Linear(dim, dim)\n",
    "        self.mlp = Mlp(in_features=dim, hidden_features=dim*mlp_ratio, act_layer=torch.nn.GELU)\n",
    "    \n",
    "    def forward(self, x):\n",
    "        x = self.norm1(x)\n",
    "        fcq, fck, fcv = self.to_q(x), self.to_k(x), self.to_v(x)\n",
    "        x = F.scaled_dot_product_attention(fcq, fck, fcv)\n",
    "        x = self.norm2(x)\n",
    "        x = self.mlp(x)\n",
    "        return x"
   ]
  },
  {
   "cell_type": "code",
   "execution_count": 463,
   "metadata": {},
   "outputs": [],
   "source": [
    "# instantiate encoder\n",
    "enc1 = EncoderBlock(embed_dim)\n",
    "enc2 = EncoderBlock(embed_dim)\n",
    "# add params to optimizer\n",
    "# optimizer.param_groups.append({'params': enc.parameters()})"
   ]
  },
  {
   "cell_type": "markdown",
   "metadata": {},
   "source": [
    "## Observation\n",
    "\n",
    "If embed_dim = 128, then adding a second encoder block makes it reproduce jibberish\n",
    "\n",
    "If embed_dim = 12, then adding a second encoder block is necessary to produce a meaningful output"
   ]
  },
  {
   "cell_type": "code",
   "execution_count": 464,
   "metadata": {},
   "outputs": [],
   "source": [
    "# make optimizer from existing params\n",
    "from itertools import chain\n",
    "\n",
    "lr = 0.001\n",
    "weight_decay = 0.05\n",
    "\n",
    "params = chain(\n",
    "    patch_embed.parameters(),\n",
    "    pos_embed,\n",
    "    enc1.parameters(),\n",
    "    # enc2.parameters(),\n",
    "    norm.parameters(),\n",
    "    pred_fc.parameters()\n",
    ")\n",
    "\n",
    "optimizer = torch.optim.Adam(params, lr=lr, weight_decay=weight_decay)\n"
   ]
  },
  {
   "cell_type": "code",
   "execution_count": 465,
   "metadata": {},
   "outputs": [],
   "source": [
    "# another pass\n",
    "def forward(img):\n",
    "    # patch and pos embed\n",
    "    x = patch_embed(img)\n",
    "    x += pos_embed[:, 1:, :]\n",
    "    \n",
    "    # encoder\n",
    "    x = enc1(x)\n",
    "    # x = enc2(x)\n",
    "\n",
    "    # decoder\n",
    "    x = norm(x)\n",
    "    x = pred_fc(x)\n",
    "    x = unpatchify(x)\n",
    "    return x"
   ]
  },
  {
   "cell_type": "code",
   "execution_count": 466,
   "metadata": {},
   "outputs": [],
   "source": [
    "loss_fn = torch.nn.L1Loss(reduction='sum')\n",
    "# loss_fn = mse"
   ]
  },
  {
   "cell_type": "code",
   "execution_count": 467,
   "metadata": {},
   "outputs": [
    {
     "name": "stdout",
     "output_type": "stream",
     "text": [
      "370.7978820800781\n",
      "91.11599731445312\n",
      "83.63531494140625\n",
      "78.3860092163086\n",
      "68.90133666992188\n",
      "58.674129486083984\n",
      "52.14320755004883\n",
      "47.2696647644043\n",
      "36.640220642089844\n",
      "26.48609733581543\n",
      "23.0140323638916\n",
      "18.49424934387207\n",
      "17.55229949951172\n",
      "11.86535930633545\n",
      "14.346924781799316\n",
      "8.708592414855957\n",
      "10.531471252441406\n",
      "7.670478343963623\n",
      "7.711460590362549\n",
      "8.42731761932373\n"
     ]
    }
   ],
   "source": [
    "# effectively training for 10k iterations\n",
    "num_iterations = 2000\n",
    "for i in range(num_iterations):\n",
    "    optimizer.zero_grad()\n",
    "\n",
    "    pred = forward(batched_img)\n",
    "    \n",
    "    loss = loss_fn(pred, batched_img)\n",
    "    \n",
    "    if i % 100 == 0:\n",
    "        print(loss.item())\n",
    "\n",
    "    # print(mlp.fc1.weight)\n",
    "\n",
    "    loss.backward()\n",
    "\n",
    "    optimizer.step()\n"
   ]
  },
  {
   "cell_type": "code",
   "execution_count": 468,
   "metadata": {},
   "outputs": [
    {
     "data": {
      "image/png": "[encoded data removed]",
      "text/plain": [
       "<Figure size 640x480 with 1 Axes>"
      ]
     },
     "metadata": {},
     "output_type": "display_data"
    }
   ],
   "source": [
    "vis(pred) # no change in reconstruction :("
   ]
  },
  {
   "cell_type": "code",
   "execution_count": 469,
   "metadata": {},
   "outputs": [
    {
     "data": {
      "image/png": "[encoded data removed]",
      "text/plain": [
       "<Figure size 640x480 with 1 Axes>"
      ]
     },
     "metadata": {},
     "output_type": "display_data"
    }
   ],
   "source": [
    "vis(img)"
   ]
  },
  {
   "cell_type": "markdown",
   "metadata": {},
   "source": [
    "## Repeat but with token merging"
   ]
  },
  {
   "cell_type": "code",
   "execution_count": 526,
   "metadata": {},
   "outputs": [],
   "source": [
    "# combine all elements into a single module\n",
    "class ToMeBlock(torch.nn.Module):\n",
    "    def __init__(self, dim, reduce_by=0.25):\n",
    "        super().__init__()\n",
    "        self.norm1 = torch.nn.LayerNorm(dim)\n",
    "        self.norm2 = torch.nn.LayerNorm(dim)\n",
    "        self.to_q = torch.nn.Linear(dim, dim)\n",
    "        self.to_k = torch.nn.Linear(dim, dim)\n",
    "        self.to_v = torch.nn.Linear(dim, dim)\n",
    "        self.mlp = Mlp(in_features=dim, hidden_features=dim*mlp_ratio, act_layer=torch.nn.GELU)\n",
    "        self.reduce_by = reduce_by\n",
    "    \n",
    "    def forward(self, x):\n",
    "        x = self.norm1(x)\n",
    "        fcq, fck, fcv = self.to_q(x), self.to_k(x), self.to_v(x)\n",
    "        # get merge and unmerge functions\n",
    "        r = int(fcq.shape[1] * self.reduce_by)\n",
    "        mq, uq = bipartite_soft_matching(fcq, r)\n",
    "        # apply merge to q,k,v\n",
    "        mfcq, mfck, mfcv = apply_merge(fcq, mq), apply_merge(fck, mq), apply_merge(fcv, mq)\n",
    "        x = F.scaled_dot_product_attention(mfcq, mfck, mfcv)\n",
    "        # unmerge output\n",
    "        x = uq(x)\n",
    "        x = self.norm2(x)\n",
    "        x = self.mlp(x)\n",
    "        return x\n",
    "    \n",
    "class ToMeNet(torch.nn.Module):\n",
    "    def __init__(self, img_size=32, patch_size=4, in_chans=3, embed_dim=128, reduce_by=0.25):\n",
    "        super().__init__()\n",
    "        self.patch_embed = PatchEmbed(img_size=img_size, patch_size=patch_size, in_chans=in_chans, embed_dim=embed_dim)\n",
    "        self.pos_embed = torch.nn.Parameter(torch.zeros(1, num_patches + 1, embed_dim), requires_grad=False)\n",
    "        self.num_patches = self.patch_embed.num_patches\n",
    "        self.grid_size = int(self.num_patches**.5)\n",
    "        # init weight for pos embed\n",
    "        pos_embed_data = get_2d_sincos_pos_embed(pos_embed.shape[-1], grid_size, cls_token=True)\n",
    "        pos_embed.data.copy_(torch.from_numpy(pos_embed_data).float().unsqueeze(0))\n",
    "\n",
    "        self.enc1 = ToMeBlock(embed_dim, reduce_by=reduce_by)\n",
    "        # self.enc2 = ToMeBlock(embed_dim, reduce_by=reduce_by)\n",
    "\n",
    "        self.norm = torch.nn.LayerNorm(embed_dim)\n",
    "        self.fc = torch.nn.Linear(embed_dim, patch_size **2 * in_chans, bias=True)\n",
    "\n",
    "    def forward(self, x):\n",
    "        x = self.patch_embed(x)\n",
    "        x += self.pos_embed[:, 1:, :]\n",
    "        \n",
    "        # encoder\n",
    "        x = self.enc1(x)\n",
    "        # x = self.enc2(x)\n",
    "\n",
    "        # decoder\n",
    "        x = self.norm(x)\n",
    "        x = self.fc(x)\n",
    "        x = unpatchify(x)\n",
    "        return x"
   ]
  },
  {
   "cell_type": "code",
   "execution_count": 534,
   "metadata": {},
   "outputs": [],
   "source": [
    "net = ToMeNet()\n",
    "tome_optimizer = torch.optim.Adam(net.parameters(), lr=lr, weight_decay=weight_decay)"
   ]
  },
  {
   "cell_type": "code",
   "execution_count": 535,
   "metadata": {},
   "outputs": [],
   "source": [
    "def train(model, num_iterations, loss_fn, optimizer):\n",
    "    for i in range(num_iterations):\n",
    "        optimizer.zero_grad()\n",
    "\n",
    "        pred = model(batched_img)\n",
    "        \n",
    "        loss = loss_fn(pred, batched_img)\n",
    "        \n",
    "        if i % 100 == 0:\n",
    "            print(loss.item())\n",
    "\n",
    "        loss.backward()\n",
    "\n",
    "        optimizer.step()"
   ]
  },
  {
   "cell_type": "code",
   "execution_count": 536,
   "metadata": {},
   "outputs": [
    {
     "name": "stdout",
     "output_type": "stream",
     "text": [
      "1462.315185546875\n",
      "93.50597381591797\n",
      "85.75689697265625\n",
      "77.16730499267578\n",
      "71.64138793945312\n",
      "71.12393951416016\n",
      "73.12084197998047\n",
      "67.27326965332031\n",
      "68.82512664794922\n",
      "66.95525360107422\n",
      "67.7804183959961\n",
      "59.43033218383789\n",
      "57.50318908691406\n",
      "50.854095458984375\n",
      "46.88896179199219\n",
      "44.69001770019531\n",
      "48.95608139038086\n",
      "42.14002227783203\n",
      "39.061275482177734\n",
      "40.89096450805664\n"
     ]
    }
   ],
   "source": [
    "num_iterations = 2000\n",
    "train(net, num_iterations, loss_fn, tome_optimizer)"
   ]
  },
  {
   "cell_type": "code",
   "execution_count": 531,
   "metadata": {},
   "outputs": [
    {
     "data": {
      "image/png": "[encoded data removed]",
      "text/plain": [
       "<Figure size 640x480 with 1 Axes>"
      ]
     },
     "metadata": {},
     "output_type": "display_data"
    }
   ],
   "source": [
    "vis(pred)"
   ]
  },
  {
   "cell_type": "code",
   "execution_count": 537,
   "metadata": {},
   "outputs": [],
   "source": [
    "reduce_by = 0.5 # reduction ration for ToMe, merge up to 50% of tokens\n",
    "net2 = ToMeNet(reduce_by=reduce_by)\n",
    "tome_optimizer2 = torch.optim.Adam(net2.parameters(), lr=lr, weight_decay=weight_decay)"
   ]
  },
  {
   "cell_type": "code",
   "execution_count": 538,
   "metadata": {},
   "outputs": [
    {
     "name": "stdout",
     "output_type": "stream",
     "text": [
      "1518.1292724609375\n",
      "101.20988464355469\n",
      "90.72547912597656\n",
      "78.86808776855469\n",
      "74.18560028076172\n",
      "73.1738510131836\n",
      "72.43730926513672\n",
      "72.04017639160156\n",
      "72.96987915039062\n",
      "67.8051528930664\n",
      "68.68719482421875\n",
      "64.26290893554688\n",
      "64.07304382324219\n",
      "62.334617614746094\n",
      "60.649593353271484\n",
      "61.814292907714844\n",
      "63.60616683959961\n",
      "58.03437042236328\n",
      "59.623653411865234\n",
      "59.513240814208984\n"
     ]
    }
   ],
   "source": [
    "train(net2, num_iterations, loss_fn, tome_optimizer2)"
   ]
  },
  {
   "cell_type": "code",
   "execution_count": null,
   "metadata": {},
   "outputs": [],
   "source": [
    "vis(pred)"
   ]
  },
  {
   "cell_type": "markdown",
   "metadata": {},
   "source": [
    "## Observations\n",
    "There is no loss of information in the representation with token merging\n",
    "\n",
    "Until getting closer to 50%"
   ]
  }
 ],
 "metadata": {
  "kernelspec": {
   "display_name": "torch",
   "language": "python",
   "name": "python3"
  },
  "language_info": {
   "codemirror_mode": {
    "name": "ipython",
    "version": 3
   },
   "file_extension": ".py",
   "mimetype": "text/x-python",
   "name": "python",
   "nbconvert_exporter": "python",
   "pygments_lexer": "ipython3",
   "version": "3.8.17"
  }
 },
 "nbformat": 4,
 "nbformat_minor": 2
}
